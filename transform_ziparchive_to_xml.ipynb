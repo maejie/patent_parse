{
 "cells": [
  {
   "cell_type": "code",
   "execution_count": 1,
   "metadata": {
    "collapsed": true
   },
   "outputs": [],
   "source": [
    "import zipfile"
   ]
  },
  {
   "cell_type": "code",
   "execution_count": 137,
   "metadata": {
    "collapsed": true
   },
   "outputs": [],
   "source": [
    "def hundle_file(inputfile, outputfile):\n",
    "    archive = zipfile.ZipFile(inputfile, 'r')\n",
    "    targetxml = archive.open(archive.namelist()[0])\n",
    "    outputxml = open(outputfile,\"w\")\n",
    "    \n",
    "    #outputxml.write(targetxml.readline().strip()) #first document declearation\n",
    "    targetxml.readline() #first document declearation\n",
    "    \n",
    "    for line in targetxml:\n",
    "        if line.startswith('<?xml version=\"1.0\" encoding=\"UTF-8\"?>'):\n",
    "            outputxml.write(\"\\r\\n\")\n",
    "            next\n",
    "        outputxml.write(line.strip())\n",
    "    \n",
    "    outputxml.write(\"\\r\\n\")    #write last linebreak\n",
    "    \n",
    "    targetxml.close()\n",
    "    archive.close()\n",
    "    outputxml.close()"
   ]
  },
  {
   "cell_type": "code",
   "execution_count": 138,
   "metadata": {
    "collapsed": false
   },
   "outputs": [
    {
     "name": "stdout",
     "output_type": "stream",
     "text": [
      "CPU times: user 40 s, sys: 2.13 s, total: 42.1 s\n",
      "Wall time: 44 s\n"
     ]
    }
   ],
   "source": [
    "%%time\n",
    "data = hundle_file('data/ipa150716.zip', 'data/result.xml')"
   ]
  },
  {
   "cell_type": "code",
   "execution_count": 139,
   "metadata": {
    "collapsed": false
   },
   "outputs": [],
   "source": [
    "from xml.etree import ElementTree\n",
    "inputfile = open('data/result.xml','r')"
   ]
  },
  {
   "cell_type": "code",
   "execution_count": 140,
   "metadata": {
    "collapsed": true
   },
   "outputs": [],
   "source": [
    "line = inputfile.readline()"
   ]
  },
  {
   "cell_type": "code",
   "execution_count": 141,
   "metadata": {
    "collapsed": false
   },
   "outputs": [],
   "source": [
    "node = ElementTree.fromstring(line)"
   ]
  },
  {
   "cell_type": "code",
   "execution_count": 146,
   "metadata": {
    "collapsed": false
   },
   "outputs": [
    {
     "data": {
      "text/plain": [
       "[('lang', 'EN'), ('country', 'US')]"
      ]
     },
     "execution_count": 146,
     "metadata": {},
     "output_type": "execute_result"
    }
   ],
   "source": [
    "node.find(\"us-bibliographic-data-application\").items()"
   ]
  },
  {
   "cell_type": "code",
   "execution_count": 179,
   "metadata": {
    "collapsed": false
   },
   "outputs": [
    {
     "data": {
      "text/plain": [
       "\"The user places the foot on the foot rest to create an axils, so to prevent the rod from slipping backward, therefore, forcing the rod to pivot on itself and elevate the shovel's scoop, as the user pulls on the shovel's handle upwards.\""
      ]
     },
     "execution_count": 179,
     "metadata": {},
     "output_type": "execute_result"
    }
   ],
   "source": [
    "node.findall('./abstract/p[0]')[0].text"
   ]
  },
  {
   "cell_type": "code",
   "execution_count": null,
   "metadata": {
    "collapsed": true
   },
   "outputs": [],
   "source": []
  },
  {
   "cell_type": "raw",
   "metadata": {},
   "source": []
  },
  {
   "cell_type": "raw",
   "metadata": {},
   "source": []
  }
 ],
 "metadata": {
  "kernelspec": {
   "display_name": "Python 2",
   "language": "python",
   "name": "python2"
  },
  "language_info": {
   "codemirror_mode": {
    "name": "ipython",
    "version": 2
   },
   "file_extension": ".py",
   "mimetype": "text/x-python",
   "name": "python",
   "nbconvert_exporter": "python",
   "pygments_lexer": "ipython2",
   "version": "2.7.9"
  }
 },
 "nbformat": 4,
 "nbformat_minor": 0
}
